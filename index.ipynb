{
 "cells": [
  {
   "cell_type": "markdown",
   "metadata": {},
   "source": [
    "# Comprehensions\n",
    "1. lists\n",
    "2. generators\n",
    "3. sets\n",
    "4. dictionaries"
   ]
  },
  {
   "cell_type": "code",
   "execution_count": 6,
   "metadata": {},
   "outputs": [
    {
     "name": "stdout",
     "output_type": "stream",
     "text": [
      "<class 'list'>\n",
      "squares = [0, 1, 4, 9, 16]\n"
     ]
    }
   ],
   "source": [
    "squares = [x*x for x in range(5)]\n",
    "print(type(squares))\n",
    "print('squares =', squares)"
   ]
  },
  {
   "cell_type": "code",
   "execution_count": 12,
   "metadata": {},
   "outputs": [
    {
     "name": "stdout",
     "output_type": "stream",
     "text": [
      "<class 'generator'>\n",
      "squares = <generator object <genexpr> at 0x7f4ba038e258>\n",
      "squares = [0, 1, 4, 9, 16]\n"
     ]
    }
   ],
   "source": [
    "squares = (x*x for x in range(5))\n",
    "print(type(squares))\n",
    "print('squares =', squares)\n",
    "print('squares =', [sq for sq in squares])"
   ]
  },
  {
   "cell_type": "code",
   "execution_count": 3,
   "metadata": {},
   "outputs": [
    {
     "name": "stdout",
     "output_type": "stream",
     "text": [
      "<class 'set'>\n",
      "squares = {1, 4, 9, 25}\n"
     ]
    }
   ],
   "source": [
    "squares = {x*x for x in [1, 3, 3, 2, 1, 5]}\n",
    "print(type(squares))\n",
    "print('squares =', squares)"
   ]
  },
  {
   "cell_type": "code",
   "execution_count": 4,
   "metadata": {},
   "outputs": [
    {
     "name": "stdout",
     "output_type": "stream",
     "text": [
      "<class 'dict'>\n",
      "squares = {'square of 0': 0, 'square of 1': 1, 'square of 2': 4, 'square of 3': 9, 'square of 4': 16}\n"
     ]
    }
   ],
   "source": [
    "squares = {'square of {}'.format(x): x*x for x in range(5)}\n",
    "print(type(squares))\n",
    "print('squares =', squares)"
   ]
  },
  {
   "cell_type": "code",
   "execution_count": null,
   "metadata": {},
   "outputs": [],
   "source": []
  }
 ],
 "metadata": {
  "kernelspec": {
   "display_name": "Python 3",
   "language": "python",
   "name": "python3"
  },
  "language_info": {
   "codemirror_mode": {
    "name": "ipython",
    "version": 3
   },
   "file_extension": ".py",
   "mimetype": "text/x-python",
   "name": "python",
   "nbconvert_exporter": "python",
   "pygments_lexer": "ipython3",
   "version": "3.6.5"
  }
 },
 "nbformat": 4,
 "nbformat_minor": 2
}
